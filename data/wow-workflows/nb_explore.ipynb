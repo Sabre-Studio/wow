{
 "cells": [
  {
   "cell_type": "code",
   "execution_count": 4,
   "metadata": {},
   "outputs": [
    {
     "data": {
      "text/plain": [
       "True"
      ]
     },
     "execution_count": 4,
     "metadata": {},
     "output_type": "execute_result"
    }
   ],
   "source": [
    "import json\n",
    "\n",
    "import requests\n",
    "from dotenv import load_dotenv\n",
    "from pydantic import BaseModel, Field\n",
    "\n",
    "from wow_api.external.blizz_api.auth import BlizzardApiAuth\n",
    "\n",
    "load_dotenv()"
   ]
  },
  {
   "cell_type": "code",
   "execution_count": 2,
   "metadata": {},
   "outputs": [
    {
     "name": "stdout",
     "output_type": "stream",
     "text": [
      "made new token: access_token='USOG7QkKNVolljRksvNfnyD9HL6SoQrQ97' token_type='bearer' expires_in=datetime.timedelta(seconds=86399) sub='e99ce1a2c0454313b5f5b95d5cce9901' expires_at=datetime.datetime(2023, 4, 5, 17, 51, 40, 582587, tzinfo=datetime.timezone.utc)\n",
      "access_token='USOG7QkKNVolljRksvNfnyD9HL6SoQrQ97' token_type='bearer' expires_in=datetime.timedelta(seconds=86399) sub='e99ce1a2c0454313b5f5b95d5cce9901' expires_at=datetime.datetime(2023, 4, 5, 17, 51, 40, 582587, tzinfo=datetime.timezone.utc)\n"
     ]
    }
   ],
   "source": [
    "api_auth = BlizzardApiAuth()\n",
    "token = api_auth.get_token()"
   ]
  },
  {
   "cell_type": "code",
   "execution_count": 3,
   "metadata": {},
   "outputs": [],
   "source": [
    "class ConnectedRealm(BaseModel):\n",
    "    href: str\n",
    "\n",
    "\n",
    "class ConnectedRealmsIndexResponse(BaseModel):\n",
    "    connected_realms: list[ConnectedRealm]\n"
   ]
  },
  {
   "cell_type": "code",
   "execution_count": 6,
   "metadata": {},
   "outputs": [],
   "source": [
    "url = 'https://us.api.blizzard.com/data/wow/connected-realm/index?namespace=dynamic-us&locale=en_US'\n",
    "\n",
    "connected_realms_res = requests.get(url, headers= {\n",
    "        'Authorization': f'Bearer {token.access_token}'\n",
    "    })\n",
    "\n",
    "connected_realms = ConnectedRealmsIndexResponse.parse_obj(connected_realms_res.json())\n",
    "\n",
    "with open('./out/connected-realms.json', 'w') as realms_file:\n",
    "    realms_file.write(connected_realms.json(indent=2))\n",
    "\n",
    "with open('./out/raw-connected-realms.json', 'w') as file:\n",
    "    json.dump(connected_realms_res.json(), file, indent=2)"
   ]
  },
  {
   "cell_type": "code",
   "execution_count": 7,
   "metadata": {},
   "outputs": [],
   "source": [
    "realm_res = requests.get(connected_realms.connected_realms[0].href, headers= {\n",
    "        'Authorization': f'Bearer {token.access_token}'\n",
    "    })\n",
    "\n",
    "connected_realm = ConnectedRealmResponse.parse_obj(realm_res.json())\n",
    "\n",
    "with open(f'./out/realms/{connected_realm.id}.json', 'w') as file:\n",
    "    file.write(connected_realm.json(indent=2))"
   ]
  },
  {
   "cell_type": "code",
   "execution_count": 10,
   "metadata": {},
   "outputs": [],
   "source": [
    "class Key(BaseModel):\n",
    "    href: str\n",
    "\n",
    "\n",
    "class CurrentLeaderboard(BaseModel):\n",
    "    key: Key\n",
    "    name: LocaleText\n",
    "    id: int\n",
    "\n",
    "\n",
    "class MythicLeaderboardsResponse(BaseModel):\n",
    "    current_leaderboards: list[CurrentLeaderboard]"
   ]
  },
  {
   "cell_type": "code",
   "execution_count": 11,
   "metadata": {},
   "outputs": [],
   "source": [
    "mythic_leaderboards_res = requests.get(connected_realm.mythic_leaderboards.href, headers= {\n",
    "        'Authorization': f'Bearer {token.access_token}'\n",
    "    })\n",
    "\n",
    "leaderboards = MythicLeaderboardsResponse.parse_obj(mythic_leaderboards_res.json())"
   ]
  },
  {
   "cell_type": "code",
   "execution_count": 12,
   "metadata": {},
   "outputs": [
    {
     "data": {
      "text/plain": [
       "'https://us.api.blizzard.com/data/wow/connected-realm/121/mythic-leaderboard/2/period/900?namespace=dynamic-us'"
      ]
     },
     "execution_count": 12,
     "metadata": {},
     "output_type": "execute_result"
    }
   ],
   "source": [
    "leaderboards.current_leaderboards[0].key.href"
   ]
  },
  {
   "cell_type": "code",
   "execution_count": 34,
   "metadata": {},
   "outputs": [],
   "source": [
    "\n",
    "\n",
    "\n",
    "\n",
    "\n",
    "\n",
    "class Map(BaseModel):\n",
    "    name: LocaleText\n",
    "    id: int\n",
    "\n",
    "\n",
    "\n",
    "\n",
    "\n",
    "class Realm(BaseModel):\n",
    "    key: Key\n",
    "    id: int\n",
    "    slug: str\n",
    "\n",
    "\n",
    "class Profile(BaseModel):\n",
    "    name: str\n",
    "    id: int\n",
    "    realm: Realm\n",
    "\n",
    "\n",
    "class Faction(BaseModel):\n",
    "    type: str\n",
    "\n",
    "\n",
    "class Specialization(BaseModel):\n",
    "    key: Key\n",
    "    id: int\n",
    "\n",
    "\n",
    "class Member(BaseModel):\n",
    "    profile: Profile\n",
    "    faction: Faction\n",
    "    specialization: Specialization\n",
    "\n",
    "\n",
    "class Color(BaseModel):\n",
    "    r: int\n",
    "    g: int\n",
    "    b: int\n",
    "    a: float\n",
    "\n",
    "\n",
    "class MythicRating(BaseModel):\n",
    "    color: Color\n",
    "    rating: float\n",
    "\n",
    "\n",
    "class LeadingGroup(BaseModel):\n",
    "    ranking: int\n",
    "    duration: int\n",
    "    completed_timestamp: int\n",
    "    keystone_level: int\n",
    "    members: list[Member]\n",
    "    mythic_rating: MythicRating\n",
    "\n",
    "\n",
    "class KeystoneAffix(BaseModel):\n",
    "    key: Key\n",
    "    name: LocaleText\n",
    "    id: int\n",
    "\n",
    "\n",
    "class CurrentAffix(BaseModel):\n",
    "    keystone_affix: KeystoneAffix\n",
    "    starting_level: int\n",
    "\n",
    "\n",
    "class KeyLeaderboardResponse(BaseModel):\n",
    "    map: Map\n",
    "    period: int\n",
    "    period_start_timestamp: int\n",
    "    period_end_timestamp: int\n",
    "    connected_realm: ConnectedRealm\n",
    "    leading_groups: list[LeadingGroup]\n",
    "    keystone_affixes: list[CurrentAffix]\n",
    "    map_challenge_mode_id: int\n",
    "    name: LocaleText"
   ]
  },
  {
   "cell_type": "code",
   "execution_count": 35,
   "metadata": {},
   "outputs": [],
   "source": [
    "key_leaderboard_res = requests.get('https://us.api.blizzard.com/data/wow/connected-realm/121/mythic-leaderboard/2/period/899?namespace=dynamic-us', headers= {\n",
    "        'Authorization': f'Bearer {token.access_token}'\n",
    "    })"
   ]
  },
  {
   "cell_type": "code",
   "execution_count": 36,
   "metadata": {},
   "outputs": [],
   "source": [
    "key_leaderboard = KeyLeaderboardResponse.parse_obj(key_leaderboard_res.json())"
   ]
  },
  {
   "cell_type": "code",
   "execution_count": 38,
   "metadata": {},
   "outputs": [
    {
     "data": {
      "text/plain": [
       "'Gokgokgokgok'"
      ]
     },
     "execution_count": 38,
     "metadata": {},
     "output_type": "execute_result"
    }
   ],
   "source": [
    "key_leaderboard.leading_groups[0].members[0].profile.name\n"
   ]
  },
  {
   "cell_type": "code",
   "execution_count": 51,
   "metadata": {},
   "outputs": [],
   "source": [
    "res = requests.get('https://us.api.blizzard.com/data/wow/playable-race/29?namespace=static-10.0.7_48520-us',\n",
    "                        headers= {\n",
    "                            'Authorization': f'Bearer {token.access_token}'\n",
    "                        })"
   ]
  },
  {
   "cell_type": "code",
   "execution_count": 52,
   "metadata": {},
   "outputs": [
    {
     "data": {
      "text/plain": [
       "200"
      ]
     },
     "execution_count": 52,
     "metadata": {},
     "output_type": "execute_result"
    }
   ],
   "source": [
    "res.status_code"
   ]
  },
  {
   "cell_type": "code",
   "execution_count": 53,
   "metadata": {},
   "outputs": [],
   "source": [
    "with open('./data/race-res.json', 'w') as spec_file:\n",
    "    spec_file.write(\n",
    "        res.text\n",
    "    )\n"
   ]
  },
  {
   "cell_type": "code",
   "execution_count": null,
   "metadata": {},
   "outputs": [],
   "source": []
  }
 ],
 "metadata": {
  "kernelspec": {
   "display_name": "wow-api-kYKu7jCX-py3.11",
   "language": "python",
   "name": "python3"
  },
  "language_info": {
   "codemirror_mode": {
    "name": "ipython",
    "version": 3
   },
   "file_extension": ".py",
   "mimetype": "text/x-python",
   "name": "python",
   "nbconvert_exporter": "python",
   "pygments_lexer": "ipython3",
   "version": "3.11.1"
  },
  "orig_nbformat": 4,
  "vscode": {
   "interpreter": {
    "hash": "e7f6021d391d398ea082f62f6e4cdc3fe88752eb6afed336b6c6c64b28c8db72"
   }
  }
 },
 "nbformat": 4,
 "nbformat_minor": 2
}
