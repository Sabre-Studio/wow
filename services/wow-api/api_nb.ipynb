{
 "cells": [
  {
   "cell_type": "code",
   "execution_count": 42,
   "metadata": {},
   "outputs": [
    {
     "data": {
      "text/plain": [
       "True"
      ]
     },
     "execution_count": 42,
     "metadata": {},
     "output_type": "execute_result"
    }
   ],
   "source": [
    "from enum import StrEnum, auto\n",
    "import json\n",
    "\n",
    "from dotenv import load_dotenv\n",
    "from pydantic import BaseModel, Field, HttpUrl\n",
    "import requests\n",
    "\n",
    "from wow_api.external.blizz_api.auth import BlizzardApiAuth\n",
    "\n",
    "load_dotenv()"
   ]
  },
  {
   "cell_type": "code",
   "execution_count": 5,
   "metadata": {},
   "outputs": [],
   "source": [
    "class BlizzardApiRegion(StrEnum):\n",
    "    us = auto()\n",
    "    eu = auto()\n",
    "    kr = auto()\n",
    "    tw = auto()\n",
    "\n",
    "\n",
    "class BlizzardNamespaceCategory(StrEnum):\n",
    "    static = auto()\n",
    "    dynamic = auto()\n",
    "    profile = auto()\n",
    "\n",
    "\n",
    "class BlizzardApiLocales(StrEnum):\n",
    "    en_us = \"en_US\"\n",
    "    es_mx = \"es_MX\"\n",
    "    pt_br = \"pt_BR\"\n",
    "    de_de = \"de_DE\"\n",
    "    en_gb = \"en_GB\"\n",
    "    es_es = \"es_ES\"\n",
    "    fr_fr = \"fr_FR\"\n",
    "    it_it = \"it_IT\"\n",
    "    ru_RU = \"ru_RU\"\n",
    "    ko_kr = \"ko_KR\"\n",
    "    zh_tw = \"zh_TW\"\n",
    "    zh_cn = \"zh_CN\"\n",
    "\n"
   ]
  },
  {
   "cell_type": "code",
   "execution_count": 3,
   "metadata": {},
   "outputs": [
    {
     "name": "stdout",
     "output_type": "stream",
     "text": [
      "made new token: access_token='USOG7QkKNVolljRksvNfnyD9HL6SoQrQ97' token_type='bearer' expires_in=datetime.timedelta(seconds=86399) sub='e99ce1a2c0454313b5f5b95d5cce9901' expires_at=datetime.datetime(2023, 4, 5, 18, 2, 45, 297083, tzinfo=datetime.timezone.utc)\n",
      "access_token='USOG7QkKNVolljRksvNfnyD9HL6SoQrQ97' token_type='bearer' expires_in=datetime.timedelta(seconds=86399) sub='e99ce1a2c0454313b5f5b95d5cce9901' expires_at=datetime.datetime(2023, 4, 5, 18, 2, 45, 297083, tzinfo=datetime.timezone.utc)\n"
     ]
    }
   ],
   "source": [
    "api_auth = BlizzardApiAuth()\n",
    "token = api_auth.get_token()"
   ]
  },
  {
   "cell_type": "code",
   "execution_count": 39,
   "metadata": {},
   "outputs": [],
   "source": [
    "default_region: BlizzardApiRegion = BlizzardApiRegion.us\n",
    "default_locale: BlizzardApiLocales = BlizzardApiLocales.en_us\n",
    "\n",
    "default_params = {\n",
    "        'locale': default_locale.value\n",
    "    }\n",
    "\n",
    "\n",
    "def build_url(endpoint: str, region: BlizzardApiRegion = default_region) -> str:\n",
    "    return f\"https://{region.value}.api.blizzard.com{endpoint}\"\n",
    "\n",
    "\n",
    "def build_headers(\n",
    "    namespace_category: BlizzardNamespaceCategory | None = None,\n",
    "    region: BlizzardApiRegion = default_region,\n",
    ") -> dict[str, str]:\n",
    "    if namespace_category:\n",
    "        return {\n",
    "            \"Authorization\": f\"Bearer {token.access_token}\",\n",
    "            \"Battlenet-Namespace\": f\"{namespace_category.value}-{region.value}\",\n",
    "        }\n",
    "\n",
    "    else:\n",
    "        return {\n",
    "            \"Authorization\": f\"Bearer {token.access_token}\",\n",
    "        }\n",
    "    \n",
    "def get_url_params(url: HttpUrl) -> dict[str, str]:\n",
    "    query_string = url.query\n",
    "    query_params = query_string.split(\"&\")\n",
    "    print(query_params)\n",
    "\n",
    "    param_dict = {}\n",
    "    for p in query_params:\n",
    "        key_value = p.split(\"=\")\n",
    "        if len(key_value) > 0:\n",
    "            param_dict[key_value[0]] = key_value[1]\n",
    "\n",
    "    return param_dict"
   ]
  },
  {
   "cell_type": "code",
   "execution_count": 10,
   "metadata": {},
   "outputs": [],
   "source": [
    "class Self(BaseModel):\n",
    "    href: HttpUrl\n",
    "\n",
    "\n",
    "class FieldLinks(BaseModel):\n",
    "    self: Self\n",
    "\n",
    "\n",
    "class ConnectedRealm(BaseModel):\n",
    "    href: HttpUrl\n",
    "\n",
    "\n",
    "class ConnectedRealmsListResponse(BaseModel):\n",
    "    field_links: FieldLinks = Field(..., alias=\"_links\")\n",
    "    connected_realms: list[ConnectedRealm]\n",
    "\n",
    "def get_connected_realms_list(locale: BlizzardApiLocales = default_locale) -> ConnectedRealmsListResponse:\n",
    "    url = build_url(\"/data/wow/connected-realm/index\")\n",
    "    \n",
    "    connected_realms_res = requests.get(url, headers=build_headers(BlizzardNamespaceCategory.dynamic), params={\n",
    "        'locale': locale.value\n",
    "    })\n",
    "\n",
    "    return ConnectedRealmsListResponse.parse_obj(connected_realms_res.json())\n"
   ]
  },
  {
   "cell_type": "code",
   "execution_count": 46,
   "metadata": {},
   "outputs": [],
   "source": [
    "class Status(BaseModel):\n",
    "    type: str\n",
    "    name: str\n",
    "\n",
    "\n",
    "class Population(BaseModel):\n",
    "    type: str\n",
    "    name: str\n",
    "\n",
    "\n",
    "class Key(BaseModel):\n",
    "    href: HttpUrl\n",
    "\n",
    "\n",
    "class Region(BaseModel):\n",
    "    key: Key\n",
    "    name: str\n",
    "    id: int\n",
    "\n",
    "\n",
    "class Type(BaseModel):\n",
    "    type: str\n",
    "    name: str\n",
    "\n",
    "\n",
    "class Realm(BaseModel):\n",
    "    id: int\n",
    "    region: Region\n",
    "    connected_realm: ConnectedRealm\n",
    "    name: str\n",
    "    category: str\n",
    "    locale: str\n",
    "    timezone: str\n",
    "    type: Type\n",
    "    is_tournament: bool\n",
    "    slug: str\n",
    "\n",
    "\n",
    "class MythicLeaderboards(BaseModel):\n",
    "    href: HttpUrl\n",
    "\n",
    "\n",
    "class Auctions(BaseModel):\n",
    "    href: HttpUrl\n",
    "\n",
    "\n",
    "class ConnectedRealmResponse(BaseModel):\n",
    "    field_links: FieldLinks = Field(..., alias='_links')\n",
    "    id: int\n",
    "    has_queue: bool\n",
    "    status: Status\n",
    "    population: Population\n",
    "    realms: list[Realm]\n",
    "    mythic_leaderboards: MythicLeaderboards\n",
    "    auctions: Auctions\n",
    "\n",
    "def get_connected_realm() -> None:\n",
    "    pass"
   ]
  },
  {
   "cell_type": "code",
   "execution_count": 11,
   "metadata": {},
   "outputs": [],
   "source": [
    "connected_realms_list = get_connected_realms_list()"
   ]
  },
  {
   "cell_type": "code",
   "execution_count": 44,
   "metadata": {},
   "outputs": [],
   "source": [
    "connected_realm_res = requests.get(connected_realms_list.connected_realms[0].href, headers=build_headers(), params=default_params)"
   ]
  },
  {
   "cell_type": "code",
   "execution_count": 45,
   "metadata": {},
   "outputs": [],
   "source": [
    "with open('./out/raw.json', 'w') as file:\n",
    "    json.dump(connected_realm_res.json(), file, indent=4)"
   ]
  },
  {
   "cell_type": "code",
   "execution_count": 47,
   "metadata": {},
   "outputs": [],
   "source": [
    "connected_realm = ConnectedRealmResponse.parse_obj(connected_realm_res.json())"
   ]
  },
  {
   "cell_type": "code",
   "execution_count": 49,
   "metadata": {},
   "outputs": [],
   "source": [
    "mythic_leaderboards_res = requests.get(\n",
    "        connected_realm.mythic_leaderboards.href,\n",
    "        headers=build_headers(),\n",
    "        params=default_params\n",
    "    )\n"
   ]
  },
  {
   "cell_type": "code",
   "execution_count": 52,
   "metadata": {},
   "outputs": [],
   "source": []
  },
  {
   "cell_type": "code",
   "execution_count": 53,
   "metadata": {},
   "outputs": [],
   "source": [
    "current_leaderboards = RealmCurrentLeaderboardsResponse.parse_obj(mythic_leaderboards_res.json())"
   ]
  },
  {
   "cell_type": "code",
   "execution_count": 56,
   "metadata": {},
   "outputs": [],
   "source": [
    "l = current_leaderboards.current_leaderboards[0]"
   ]
  },
  {
   "cell_type": "code",
   "execution_count": 57,
   "metadata": {},
   "outputs": [],
   "source": [
    "leaderboard_req = requests.get(\n",
    "            l.key.href,\n",
    "            headers=build_headers(),\n",
    "            params=default_params\n",
    "        )"
   ]
  },
  {
   "cell_type": "code",
   "execution_count": 58,
   "metadata": {},
   "outputs": [],
   "source": [
    "with open('./out/raw.json', 'w') as file:\n",
    "    json.dump(leaderboard_req.json(), file, indent=4)"
   ]
  },
  {
   "cell_type": "code",
   "execution_count": 79,
   "metadata": {},
   "outputs": [
    {
     "data": {
      "text/plain": [
       "<PreparedRequest [GET]>"
      ]
     },
     "execution_count": 79,
     "metadata": {},
     "output_type": "execute_result"
    }
   ],
   "source": [
    "leaderboard_req."
   ]
  },
  {
   "cell_type": "code",
   "execution_count": 71,
   "metadata": {},
   "outputs": [],
   "source": [
    "leaderboard = LeaderboardResponse.parse_obj(leaderboard_req.json())"
   ]
  },
  {
   "cell_type": "code",
   "execution_count": 63,
   "metadata": {},
   "outputs": [],
   "source": [
    "dungeon_name = leaderboard.name.lower().replace(\" \", \"-\")"
   ]
  },
  {
   "cell_type": "code",
   "execution_count": 64,
   "metadata": {},
   "outputs": [
    {
     "data": {
      "text/plain": [
       "'temple-of-the-jade-serpent'"
      ]
     },
     "execution_count": 64,
     "metadata": {},
     "output_type": "execute_result"
    }
   ],
   "source": [
    "dungeon_name"
   ]
  },
  {
   "cell_type": "code",
   "execution_count": 67,
   "metadata": {},
   "outputs": [],
   "source": [
    "file_name = f\"./out/{connected_realm.id}-{dungeon_name}-period-{leaderboard.period}.json\","
   ]
  },
  {
   "cell_type": "code",
   "execution_count": 69,
   "metadata": {},
   "outputs": [
    {
     "data": {
      "text/plain": [
       "8"
      ]
     },
     "execution_count": 69,
     "metadata": {},
     "output_type": "execute_result"
    }
   ],
   "source": [
    "len(leaderboard.leading_groups)"
   ]
  },
  {
   "cell_type": "code",
   "execution_count": null,
   "metadata": {},
   "outputs": [],
   "source": []
  }
 ],
 "metadata": {
  "kernelspec": {
   "display_name": "wow-api-KLe6RhOT-py3.11",
   "language": "python",
   "name": "python3"
  },
  "language_info": {
   "codemirror_mode": {
    "name": "ipython",
    "version": 3
   },
   "file_extension": ".py",
   "mimetype": "text/x-python",
   "name": "python",
   "nbconvert_exporter": "python",
   "pygments_lexer": "ipython3",
   "version": "3.11.1"
  },
  "orig_nbformat": 4
 },
 "nbformat": 4,
 "nbformat_minor": 2
}
