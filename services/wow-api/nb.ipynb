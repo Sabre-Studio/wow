{
 "cells": [
  {
   "cell_type": "code",
   "execution_count": 1,
   "metadata": {},
   "outputs": [
    {
     "data": {
      "text/plain": [
       "True"
      ]
     },
     "execution_count": 1,
     "metadata": {},
     "output_type": "execute_result"
    }
   ],
   "source": [
    "from enum import StrEnum, auto\n",
    "\n",
    "import requests\n",
    "from dotenv import load_dotenv\n",
    "from pydantic import BaseModel\n",
    "\n",
    "from wow_api.external.blizz_api.auth import BlizzardApiAuth\n",
    "\n",
    "load_dotenv()"
   ]
  },
  {
   "cell_type": "code",
   "execution_count": 2,
   "metadata": {},
   "outputs": [],
   "source": [
    "class BlizzardRegion(StrEnum):\n",
    "    us = auto()\n",
    "    eu = auto()\n",
    "    kr = auto()\n",
    "    tw = auto()\n",
    "\n",
    "\n",
    "class Region(BaseModel):\n",
    "    id: int\n",
    "    name: stra\n",
    "\n",
    "\n",
    "class RealmType(BaseModel):\n",
    "    name: str\n",
    "    type: str\n",
    "\n",
    "\n",
    "class RealmStatus(BaseModel):\n",
    "    name: str\n",
    "    type: str\n",
    "\n",
    "\n",
    "class RealmPopulation(BaseModel):\n",
    "    name: str\n",
    "    type: str\n",
    "\n",
    "\n",
    "class Realm(BaseModel):\n",
    "    id: int\n",
    "    slug: str\n",
    "    name: str\n",
    "    timezone: str\n",
    "    locale: str\n",
    "    is_tournament: bool\n",
    "    category: str\n",
    "    type: RealmType\n",
    "    region: Region\n",
    "\n",
    "\n",
    "class ConnectedRealm(BaseModel):\n",
    "    id: int\n",
    "    href: str\n",
    "    status: RealmStatus\n",
    "    population: RealmPopulation\n",
    "    has_queue: bool\n",
    "    realms: list[Realm]"
   ]
  },
  {
   "cell_type": "code",
   "execution_count": 3,
   "metadata": {},
   "outputs": [],
   "source": [
    "api_auth = BlizzardApiAuth()"
   ]
  },
  {
   "cell_type": "code",
   "execution_count": 4,
   "metadata": {},
   "outputs": [
    {
     "ename": "TypeError",
     "evalue": "can't compare offset-naive and offset-aware datetimes",
     "output_type": "error",
     "traceback": [
      "\u001b[0;31m---------------------------------------------------------------------------\u001b[0m",
      "\u001b[0;31mTypeError\u001b[0m                                 Traceback (most recent call last)",
      "Cell \u001b[0;32mIn[4], line 1\u001b[0m\n\u001b[0;32m----> 1\u001b[0m api_auth\u001b[39m.\u001b[39;49mget_token()\n",
      "File \u001b[0;32m~/code/ss/wow/wow-api/wow_api/external/blizz_api/auth.py:21\u001b[0m, in \u001b[0;36mBlizzardApiAuth.get_token\u001b[0;34m(self)\u001b[0m\n\u001b[1;32m     20\u001b[0m \u001b[39mdef\u001b[39;00m \u001b[39mget_token\u001b[39m(\u001b[39mself\u001b[39m) \u001b[39m-\u001b[39m\u001b[39m>\u001b[39m BlizzAuthToken:\n\u001b[0;32m---> 21\u001b[0m     \u001b[39mif\u001b[39;00m \u001b[39mself\u001b[39;49m\u001b[39m.\u001b[39;49mis_token_expired():\n\u001b[1;32m     22\u001b[0m         \u001b[39mself\u001b[39m\u001b[39m.\u001b[39mtoken \u001b[39m=\u001b[39m BlizzardApiAuth\u001b[39m.\u001b[39mfetch_auth_token()\n\u001b[1;32m     24\u001b[0m     \u001b[39mreturn\u001b[39;00m \u001b[39mself\u001b[39m\u001b[39m.\u001b[39mtoken\n",
      "File \u001b[0;32m~/code/ss/wow/wow-api/wow_api/external/blizz_api/auth.py:27\u001b[0m, in \u001b[0;36mBlizzardApiAuth.is_token_expired\u001b[0;34m(self)\u001b[0m\n\u001b[1;32m     26\u001b[0m \u001b[39mdef\u001b[39;00m \u001b[39mis_token_expired\u001b[39m(\u001b[39mself\u001b[39m) \u001b[39m-\u001b[39m\u001b[39m>\u001b[39m \u001b[39mbool\u001b[39m:\n\u001b[0;32m---> 27\u001b[0m     \u001b[39mreturn\u001b[39;00m datetime\u001b[39m.\u001b[39;49mnow() \u001b[39m>\u001b[39;49m \u001b[39mself\u001b[39;49m\u001b[39m.\u001b[39;49mtoken\u001b[39m.\u001b[39;49mexpires_at\n",
      "\u001b[0;31mTypeError\u001b[0m: can't compare offset-naive and offset-aware datetimes"
     ]
    }
   ],
   "source": [
    "api_auth.get_token()"
   ]
  },
  {
   "cell_type": "code",
   "execution_count": 4,
   "metadata": {},
   "outputs": [],
   "source": [
    "url = f'https://us.api.blizzard.com/data/wow/search/connected-realm?namespace=dynamic-us&orderby=id&_page=1&access_token={token.access_token}'\n",
    "connected_realms_res = requests.get(url)\n",
    "\n",
    "realms_dict = connected_realms_res.json()\n",
    "\n",
    "connected_realms = []\n",
    "for rc in realms_dict['results']:\n",
    "    realms = []\n",
    "    for r in rc['data']['realms']:\n",
    "        realm: Realm = Realm(\n",
    "            id=r['id'],\n",
    "            slug=r['slug'],\n",
    "            name=r['name']['en_US'],\n",
    "            timezone=r['timezone'],\n",
    "            locale=r['locale'],\n",
    "            is_tournament=r['is_tournament'],\n",
    "            category=r['category']['en_US'],\n",
    "            type=RealmType(\n",
    "                name=r['type']['name']['en_US'],\n",
    "                type=r['type']['type']\n",
    "            ),\n",
    "            region=Region(\n",
    "                id=r['region']['id'],\n",
    "                name=r['region']['name']['en_US']\n",
    "            )\n",
    "        )\n",
    "        realms.append(realm)\n",
    "        \n",
    "    connected_realm: ConnectedRealm = ConnectedRealm(\n",
    "        id=rc['data']['id'],\n",
    "        href=rc['key']['href'],\n",
    "        has_queue=rc['data']['has_queue'],\n",
    "        status=RealmStatus(\n",
    "            name=rc['data']['status']['name']['en_US'],\n",
    "            type=rc['data']['status']['type']\n",
    "        ),\n",
    "        population=RealmPopulation(\n",
    "            name=rc['data']['population']['name']['en_US'],\n",
    "            type=rc['data']['population']['type'],\n",
    "        ),\n",
    "        realms=realms\n",
    "    )\n",
    "    connected_realms.append(connected_realm)\n"
   ]
  },
  {
   "cell_type": "code",
   "execution_count": 5,
   "metadata": {},
   "outputs": [],
   "source": [
    "def get_realm_leaderboards(realm_id: int, access_token: str):\n",
    "    url = f'https://us.api.blizzard.com/data/wow/connected-realm/{realm_id}/mythic-leaderboard/index?namespace=dynamic-us&locale=en_US&access_token={access_token}'"
   ]
  },
  {
   "cell_type": "code",
   "execution_count": 11,
   "metadata": {},
   "outputs": [],
   "source": [
    "temple = 'https://us.api.blizzard.com/data/wow/connected-realm/5/mythic-leaderboard/2/period/894?namespace=dynamic-us&access_token=USx1btfLiJlNyjkblF1TQey89PGQNaXIzR'\n"
   ]
  },
  {
   "cell_type": "code",
   "execution_count": 12,
   "metadata": {},
   "outputs": [
    {
     "data": {
      "text/plain": [
       "83"
      ]
     },
     "execution_count": 12,
     "metadata": {},
     "output_type": "execute_result"
    }
   ],
   "source": []
  },
  {
   "cell_type": "code",
   "execution_count": null,
   "metadata": {},
   "outputs": [],
   "source": []
  }
 ],
 "metadata": {
  "kernelspec": {
   "display_name": "wow-api-kYKu7jCX-py3.11",
   "language": "python",
   "name": "python3"
  },
  "language_info": {
   "codemirror_mode": {
    "name": "ipython",
    "version": 3
   },
   "file_extension": ".py",
   "mimetype": "text/x-python",
   "name": "python",
   "nbconvert_exporter": "python",
   "pygments_lexer": "ipython3",
   "version": "3.11.2"
  },
  "orig_nbformat": 4,
  "vscode": {
   "interpreter": {
    "hash": "e7f6021d391d398ea082f62f6e4cdc3fe88752eb6afed336b6c6c64b28c8db72"
   }
  }
 },
 "nbformat": 4,
 "nbformat_minor": 2
}
